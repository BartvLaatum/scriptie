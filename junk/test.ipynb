{
 "cells": [
  {
   "cell_type": "code",
   "execution_count": 1,
   "metadata": {},
   "outputs": [],
   "source": [
    "import pandas as pd\n",
    "import numpy as np\n",
    "import glob\n",
    "import matplotlib.pyplot as plt\n",
    "\n",
    "from scipy.fftpack import fft, ifft\n",
    "from scipy import signal\n",
    "from sklearn import preprocessing\n",
    "from sklearn.model_selection import train_test_split\n",
    "from sklearn.model_selection import KFold\n",
    "\n",
    "pd.set_option('precision', 30)\n",
    "np.set_printoptions(precision = 30)\n"
   ]
  },
  {
   "cell_type": "code",
   "execution_count": 2,
   "metadata": {},
   "outputs": [
    {
     "ename": "MemoryError",
     "evalue": "",
     "output_type": "error",
     "traceback": [
      "\u001b[1;31m---------------------------------------------------------------------------\u001b[0m",
      "\u001b[1;31mMemoryError\u001b[0m                               Traceback (most recent call last)",
      "\u001b[1;32m<ipython-input-2-221e9a3268de>\u001b[0m in \u001b[0;36m<module>\u001b[1;34m\u001b[0m\n\u001b[1;32m----> 1\u001b[1;33m \u001b[0mtrain_df\u001b[0m \u001b[1;33m=\u001b[0m \u001b[0mpd\u001b[0m\u001b[1;33m.\u001b[0m\u001b[0mread_csv\u001b[0m\u001b[1;33m(\u001b[0m\u001b[1;34m'train/train.csv'\u001b[0m\u001b[1;33m,\u001b[0m \u001b[0mdtype\u001b[0m\u001b[1;33m=\u001b[0m\u001b[1;33m{\u001b[0m\u001b[1;34m'acoustic_data'\u001b[0m\u001b[1;33m:\u001b[0m \u001b[0mnp\u001b[0m\u001b[1;33m.\u001b[0m\u001b[0mint8\u001b[0m\u001b[1;33m,\u001b[0m \u001b[1;34m'time_to_failure'\u001b[0m\u001b[1;33m:\u001b[0m \u001b[0mnp\u001b[0m\u001b[1;33m.\u001b[0m\u001b[0mfloat64\u001b[0m\u001b[1;33m}\u001b[0m\u001b[1;33m)\u001b[0m\u001b[1;33m\u001b[0m\u001b[1;33m\u001b[0m\u001b[0m\n\u001b[0m",
      "\u001b[1;32m~\\Anaconda3\\envs\\PythonGPU\\lib\\site-packages\\pandas\\io\\parsers.py\u001b[0m in \u001b[0;36mparser_f\u001b[1;34m(filepath_or_buffer, sep, delimiter, header, names, index_col, usecols, squeeze, prefix, mangle_dupe_cols, dtype, engine, converters, true_values, false_values, skipinitialspace, skiprows, skipfooter, nrows, na_values, keep_default_na, na_filter, verbose, skip_blank_lines, parse_dates, infer_datetime_format, keep_date_col, date_parser, dayfirst, iterator, chunksize, compression, thousands, decimal, lineterminator, quotechar, quoting, doublequote, escapechar, comment, encoding, dialect, tupleize_cols, error_bad_lines, warn_bad_lines, delim_whitespace, low_memory, memory_map, float_precision)\u001b[0m\n\u001b[0;32m    700\u001b[0m                     skip_blank_lines=skip_blank_lines)\n\u001b[0;32m    701\u001b[0m \u001b[1;33m\u001b[0m\u001b[0m\n\u001b[1;32m--> 702\u001b[1;33m         \u001b[1;32mreturn\u001b[0m \u001b[0m_read\u001b[0m\u001b[1;33m(\u001b[0m\u001b[0mfilepath_or_buffer\u001b[0m\u001b[1;33m,\u001b[0m \u001b[0mkwds\u001b[0m\u001b[1;33m)\u001b[0m\u001b[1;33m\u001b[0m\u001b[1;33m\u001b[0m\u001b[0m\n\u001b[0m\u001b[0;32m    703\u001b[0m \u001b[1;33m\u001b[0m\u001b[0m\n\u001b[0;32m    704\u001b[0m     \u001b[0mparser_f\u001b[0m\u001b[1;33m.\u001b[0m\u001b[0m__name__\u001b[0m \u001b[1;33m=\u001b[0m \u001b[0mname\u001b[0m\u001b[1;33m\u001b[0m\u001b[1;33m\u001b[0m\u001b[0m\n",
      "\u001b[1;32m~\\Anaconda3\\envs\\PythonGPU\\lib\\site-packages\\pandas\\io\\parsers.py\u001b[0m in \u001b[0;36m_read\u001b[1;34m(filepath_or_buffer, kwds)\u001b[0m\n\u001b[0;32m    433\u001b[0m \u001b[1;33m\u001b[0m\u001b[0m\n\u001b[0;32m    434\u001b[0m     \u001b[1;32mtry\u001b[0m\u001b[1;33m:\u001b[0m\u001b[1;33m\u001b[0m\u001b[1;33m\u001b[0m\u001b[0m\n\u001b[1;32m--> 435\u001b[1;33m         \u001b[0mdata\u001b[0m \u001b[1;33m=\u001b[0m \u001b[0mparser\u001b[0m\u001b[1;33m.\u001b[0m\u001b[0mread\u001b[0m\u001b[1;33m(\u001b[0m\u001b[0mnrows\u001b[0m\u001b[1;33m)\u001b[0m\u001b[1;33m\u001b[0m\u001b[1;33m\u001b[0m\u001b[0m\n\u001b[0m\u001b[0;32m    436\u001b[0m     \u001b[1;32mfinally\u001b[0m\u001b[1;33m:\u001b[0m\u001b[1;33m\u001b[0m\u001b[1;33m\u001b[0m\u001b[0m\n\u001b[0;32m    437\u001b[0m         \u001b[0mparser\u001b[0m\u001b[1;33m.\u001b[0m\u001b[0mclose\u001b[0m\u001b[1;33m(\u001b[0m\u001b[1;33m)\u001b[0m\u001b[1;33m\u001b[0m\u001b[1;33m\u001b[0m\u001b[0m\n",
      "\u001b[1;32m~\\Anaconda3\\envs\\PythonGPU\\lib\\site-packages\\pandas\\io\\parsers.py\u001b[0m in \u001b[0;36mread\u001b[1;34m(self, nrows)\u001b[0m\n\u001b[0;32m   1137\u001b[0m     \u001b[1;32mdef\u001b[0m \u001b[0mread\u001b[0m\u001b[1;33m(\u001b[0m\u001b[0mself\u001b[0m\u001b[1;33m,\u001b[0m \u001b[0mnrows\u001b[0m\u001b[1;33m=\u001b[0m\u001b[1;32mNone\u001b[0m\u001b[1;33m)\u001b[0m\u001b[1;33m:\u001b[0m\u001b[1;33m\u001b[0m\u001b[1;33m\u001b[0m\u001b[0m\n\u001b[0;32m   1138\u001b[0m         \u001b[0mnrows\u001b[0m \u001b[1;33m=\u001b[0m \u001b[0m_validate_integer\u001b[0m\u001b[1;33m(\u001b[0m\u001b[1;34m'nrows'\u001b[0m\u001b[1;33m,\u001b[0m \u001b[0mnrows\u001b[0m\u001b[1;33m)\u001b[0m\u001b[1;33m\u001b[0m\u001b[1;33m\u001b[0m\u001b[0m\n\u001b[1;32m-> 1139\u001b[1;33m         \u001b[0mret\u001b[0m \u001b[1;33m=\u001b[0m \u001b[0mself\u001b[0m\u001b[1;33m.\u001b[0m\u001b[0m_engine\u001b[0m\u001b[1;33m.\u001b[0m\u001b[0mread\u001b[0m\u001b[1;33m(\u001b[0m\u001b[0mnrows\u001b[0m\u001b[1;33m)\u001b[0m\u001b[1;33m\u001b[0m\u001b[1;33m\u001b[0m\u001b[0m\n\u001b[0m\u001b[0;32m   1140\u001b[0m \u001b[1;33m\u001b[0m\u001b[0m\n\u001b[0;32m   1141\u001b[0m         \u001b[1;31m# May alter columns / col_dict\u001b[0m\u001b[1;33m\u001b[0m\u001b[1;33m\u001b[0m\u001b[1;33m\u001b[0m\u001b[0m\n",
      "\u001b[1;32m~\\Anaconda3\\envs\\PythonGPU\\lib\\site-packages\\pandas\\io\\parsers.py\u001b[0m in \u001b[0;36mread\u001b[1;34m(self, nrows)\u001b[0m\n\u001b[0;32m   1993\u001b[0m     \u001b[1;32mdef\u001b[0m \u001b[0mread\u001b[0m\u001b[1;33m(\u001b[0m\u001b[0mself\u001b[0m\u001b[1;33m,\u001b[0m \u001b[0mnrows\u001b[0m\u001b[1;33m=\u001b[0m\u001b[1;32mNone\u001b[0m\u001b[1;33m)\u001b[0m\u001b[1;33m:\u001b[0m\u001b[1;33m\u001b[0m\u001b[1;33m\u001b[0m\u001b[0m\n\u001b[0;32m   1994\u001b[0m         \u001b[1;32mtry\u001b[0m\u001b[1;33m:\u001b[0m\u001b[1;33m\u001b[0m\u001b[1;33m\u001b[0m\u001b[0m\n\u001b[1;32m-> 1995\u001b[1;33m             \u001b[0mdata\u001b[0m \u001b[1;33m=\u001b[0m \u001b[0mself\u001b[0m\u001b[1;33m.\u001b[0m\u001b[0m_reader\u001b[0m\u001b[1;33m.\u001b[0m\u001b[0mread\u001b[0m\u001b[1;33m(\u001b[0m\u001b[0mnrows\u001b[0m\u001b[1;33m)\u001b[0m\u001b[1;33m\u001b[0m\u001b[1;33m\u001b[0m\u001b[0m\n\u001b[0m\u001b[0;32m   1996\u001b[0m         \u001b[1;32mexcept\u001b[0m \u001b[0mStopIteration\u001b[0m\u001b[1;33m:\u001b[0m\u001b[1;33m\u001b[0m\u001b[1;33m\u001b[0m\u001b[0m\n\u001b[0;32m   1997\u001b[0m             \u001b[1;32mif\u001b[0m \u001b[0mself\u001b[0m\u001b[1;33m.\u001b[0m\u001b[0m_first_chunk\u001b[0m\u001b[1;33m:\u001b[0m\u001b[1;33m\u001b[0m\u001b[1;33m\u001b[0m\u001b[0m\n",
      "\u001b[1;32mpandas/_libs/parsers.pyx\u001b[0m in \u001b[0;36mpandas._libs.parsers.TextReader.read\u001b[1;34m()\u001b[0m\n",
      "\u001b[1;32mpandas/_libs/parsers.pyx\u001b[0m in \u001b[0;36mpandas._libs.parsers.TextReader._read_low_memory\u001b[1;34m()\u001b[0m\n",
      "\u001b[1;32mpandas/_libs/parsers.pyx\u001b[0m in \u001b[0;36mpandas._libs.parsers.TextReader._read_rows\u001b[1;34m()\u001b[0m\n",
      "\u001b[1;32mpandas/_libs/parsers.pyx\u001b[0m in \u001b[0;36mpandas._libs.parsers.TextReader._convert_column_data\u001b[1;34m()\u001b[0m\n",
      "\u001b[1;32mpandas/_libs/parsers.pyx\u001b[0m in \u001b[0;36mpandas._libs.parsers.TextReader._convert_tokens\u001b[1;34m()\u001b[0m\n",
      "\u001b[1;32mpandas/_libs/parsers.pyx\u001b[0m in \u001b[0;36mpandas._libs.parsers.TextReader._convert_with_dtype\u001b[1;34m()\u001b[0m\n",
      "\u001b[1;32mpandas/_libs/parsers.pyx\u001b[0m in \u001b[0;36mpandas._libs.parsers._try_int64\u001b[1;34m()\u001b[0m\n",
      "\u001b[1;31mMemoryError\u001b[0m: "
     ]
    }
   ],
   "source": [
    "train_df = pd.read_csv('train/train.csv', dtype={'acoustic_data': np.int8, 'time_to_failure': np.float64})"
   ]
  },
  {
   "cell_type": "code",
   "execution_count": null,
   "metadata": {},
   "outputs": [],
   "source": [
    "float_data = train_df.values\n"
   ]
  },
  {
   "cell_type": "code",
   "execution_count": null,
   "metadata": {},
   "outputs": [],
   "source": [
    "def x_y_split(data):\n",
    "    x = data[:,0]\n",
    "    y = data[:,1]\n",
    "    return x, y\n",
    "\n",
    "def validation_split(data, ratio):\n",
    "    slice_index = int(len(data) * ratio)\n",
    "    train_data = data[:slice_index]\n",
    "    valid_set = data[slice_index:]\n",
    "    return train_data, valid_set\n",
    "\n",
    "def create_segments(data):\n",
    "    size = 150000\n",
    "    segment = []\n",
    "    for i in range(0, len(data), size):\n",
    "        segment.append(data[i:i+size])\n",
    "    return segment\n",
    "\n",
    "# def generate_features(data):\n",
    "#     feat = []\n",
    "#     feat.append(data.mean())\n",
    "#     feat.append(data.min())\n",
    "#     feat.append(data.max())\n",
    "# #     feat.append(data.median())\n",
    "#     return np.array(feat)\n",
    "\n",
    "def extract_features(z):\n",
    "    return np.c_[z.mean(axis=0), \n",
    "                    z.min(axis=0),\n",
    "                    z.max(axis=0),\n",
    "                    z.std(axis=0)]"
   ]
  },
  {
   "cell_type": "code",
   "execution_count": null,
   "metadata": {},
   "outputs": [],
   "source": [
    "# split training data into training and validationset\n",
    "# train_set, valid_set = validation_split(float_data, 0.8)\n",
    "X = float_data[:,0]\n",
    "y = float_data[:,1]\n",
    "\n",
    "for train_index, test_index in kf.split(X):\n",
    "    print(\"TRAIN:\", train_index, \"TEST:\", test_index)\n",
    "    X_train, X_test = X[train_index], X[test_index]\n",
    "    y_train, y_test = y[train_index], y[test_index]"
   ]
  },
  {
   "cell_type": "code",
   "execution_count": 6,
   "metadata": {},
   "outputs": [],
   "source": [
    "class KerasDataGenerator(object):\n",
    "\n",
    "    def __init__(self, data, n_steps=None, step_size=150000, batch_size=16, n_features=None):\n",
    "        self.data = data\n",
    "        self.n_steps = n_steps\n",
    "        self.step_size = 150000\n",
    "        self.current_pos = 0\n",
    "        self.n_features = self.create_X().shape[1]\n",
    "        self.batch_size = batch_size\n",
    "    \n",
    "    def reset_index(self):\n",
    "        self.current_pos = 0\n",
    "\n",
    "    def generator(self):\n",
    "        \n",
    "        while True:\n",
    "            samples = np.zeros((self.batch_size, 1, self.n_features))\n",
    "            targets = np.zeros(self.batch_size)\n",
    "           \n",
    "            for j in range(self.batch_size):\n",
    "                samples[j] = self.create_X()\n",
    "                try:\n",
    "                    targets[j] = self.data[self.current_pos + self.step_size - 1, 1]\n",
    "                except:\n",
    "                    targets[j] = self.data[len(self.data) - 1, 1]\n",
    "                self.current_pos = self.current_pos + self.step_size\n",
    "                if self.current_pos >= len(self.data):\n",
    "                    self.reset_index()\n",
    "            yield samples, targets\n",
    "\n",
    "    def create_X(self):\n",
    "        x = self.data[self.current_pos:self.current_pos+self.step_size:,0]\n",
    "#         x2 = x[-(self.step_size // 10):]\n",
    "        return np.c_[extract_features(x),\n",
    "                     extract_features(x[-(self.step_size // 10):]),\n",
    "                     extract_features(x[-(self.step_size // 100):])]\n"
   ]
  },
  {
   "cell_type": "code",
   "execution_count": 7,
   "metadata": {},
   "outputs": [],
   "source": [
    "# creates one batch of particular size\n",
    "# a = train_gen.generator()\n",
    "valid_gen = KerasDataGenerator(valid_set)\n",
    "train_gen = KerasDataGenerator(train_set)"
   ]
  },
  {
   "cell_type": "code",
   "execution_count": 8,
   "metadata": {},
   "outputs": [
    {
     "name": "stderr",
     "output_type": "stream",
     "text": [
      "Using TensorFlow backend.\n"
     ]
    }
   ],
   "source": [
    "from keras.models import Sequential\n",
    "from keras.layers import Dense, LSTM, Flatten"
   ]
  },
  {
   "cell_type": "code",
   "execution_count": 34,
   "metadata": {},
   "outputs": [],
   "source": [
    "model = Sequential()"
   ]
  },
  {
   "cell_type": "code",
   "execution_count": 35,
   "metadata": {},
   "outputs": [],
   "source": [
    "# model.add(Flatten())\n",
    "model.add(LSTM(50,input_shape=(1,12), return_sequences=False))\n",
    "model.add(Dense(1))"
   ]
  },
  {
   "cell_type": "code",
   "execution_count": 36,
   "metadata": {},
   "outputs": [],
   "source": [
    "model.compile(loss='mae', optimizer='adam')"
   ]
  },
  {
   "cell_type": "code",
   "execution_count": 37,
   "metadata": {},
   "outputs": [
    {
     "name": "stdout",
     "output_type": "stream",
     "text": [
      "_________________________________________________________________\n",
      "Layer (type)                 Output Shape              Param #   \n",
      "=================================================================\n",
      "lstm_6 (LSTM)                (None, 50)                12600     \n",
      "_________________________________________________________________\n",
      "dense_6 (Dense)              (None, 1)                 51        \n",
      "=================================================================\n",
      "Total params: 12,651\n",
      "Trainable params: 12,651\n",
      "Non-trainable params: 0\n",
      "_________________________________________________________________\n"
     ]
    }
   ],
   "source": [
    "# model.output_shape\n",
    "\n",
    "model.summary()"
   ]
  },
  {
   "cell_type": "code",
   "execution_count": 38,
   "metadata": {},
   "outputs": [
    {
     "name": "stdout",
     "output_type": "stream",
     "text": [
      "209\n"
     ]
    },
    {
     "data": {
      "text/plain": [
       "52"
      ]
     },
     "execution_count": 38,
     "metadata": {},
     "output_type": "execute_result"
    }
   ],
   "source": [
    "batch_size = train_gen.batch_size\n",
    "step_size = train_gen.step_size\n",
    "steps_per_epoch = len(train_set)//(batch_size*step_size)\n",
    "print(steps_per_epoch)\n",
    "validation_steps = len(valid_set)//(batch_size*step_size)\n",
    "validation_steps"
   ]
  },
  {
   "cell_type": "code",
   "execution_count": null,
   "metadata": {},
   "outputs": [
    {
     "name": "stdout",
     "output_type": "stream",
     "text": [
      "Epoch 1/100\n",
      " - 13s - loss: 3.9834 - val_loss: 3.6768\n",
      "Epoch 2/100\n",
      " - 9s - loss: 3.2180 - val_loss: 3.4233\n",
      "Epoch 3/100\n",
      " - 9s - loss: 3.0746 - val_loss: 3.3326\n",
      "Epoch 4/100\n",
      " - 9s - loss: 3.0253 - val_loss: 3.2991\n",
      "Epoch 5/100\n",
      " - 9s - loss: 3.0072 - val_loss: 3.2847\n",
      "Epoch 6/100\n",
      " - 9s - loss: 2.9996 - val_loss: 3.2774\n",
      "Epoch 7/100\n",
      " - 11s - loss: 2.9956 - val_loss: 3.2729\n",
      "Epoch 8/100\n",
      " - 9s - loss: 2.9917 - val_loss: 3.2695\n",
      "Epoch 9/100\n",
      " - 9s - loss: 2.9910 - val_loss: 3.2667\n",
      "Epoch 10/100\n",
      " - 9s - loss: 2.9922 - val_loss: 3.2642\n",
      "Epoch 11/100\n",
      " - 9s - loss: 2.9937 - val_loss: 3.2617\n",
      "Epoch 12/100\n",
      " - 9s - loss: 2.9953 - val_loss: 3.2593\n",
      "Epoch 13/100\n",
      " - 9s - loss: 2.9969 - val_loss: 3.2569\n",
      "Epoch 14/100\n",
      " - 9s - loss: 2.9985 - val_loss: 3.2546\n",
      "Epoch 15/100\n",
      " - 9s - loss: 3.0002 - val_loss: 3.2522\n",
      "Epoch 16/100\n",
      " - 12s - loss: 3.0019 - val_loss: 3.2499\n",
      "Epoch 17/100\n",
      " - 16s - loss: 3.0040 - val_loss: 3.2345\n",
      "Epoch 18/100\n",
      " - 11s - loss: 3.0036 - val_loss: 3.2339\n",
      "Epoch 19/100\n",
      " - 12s - loss: 3.0041 - val_loss: 3.2357\n",
      "Epoch 20/100\n",
      " - 11s - loss: 3.0040 - val_loss: 3.2376\n",
      "Epoch 21/100\n",
      " - 12s - loss: 3.0007 - val_loss: 3.2402\n",
      "Epoch 22/100\n",
      " - 10s - loss: 2.9979 - val_loss: 3.2439\n",
      "Epoch 23/100\n",
      " - 9s - loss: 2.9900 - val_loss: 3.2398\n",
      "Epoch 24/100\n",
      " - 11s - loss: 2.9809 - val_loss: 3.2339\n",
      "Epoch 25/100\n",
      " - 11s - loss: 2.9700 - val_loss: 3.2383\n",
      "Epoch 26/100\n",
      " - 12s - loss: 2.9636 - val_loss: 3.2359\n",
      "Epoch 27/100\n",
      " - 11s - loss: 2.9647 - val_loss: 3.2325\n",
      "Epoch 28/100\n",
      " - 9s - loss: 2.9619 - val_loss: 3.2220\n",
      "Epoch 29/100\n",
      " - 10s - loss: 2.9530 - val_loss: 3.2133\n",
      "Epoch 30/100\n",
      " - 10s - loss: 2.9467 - val_loss: 3.2060\n",
      "Epoch 31/100\n",
      " - 11s - loss: 2.9415 - val_loss: 3.2013\n",
      "Epoch 32/100\n",
      " - 11s - loss: 2.9328 - val_loss: 3.1902\n",
      "Epoch 33/100\n",
      " - 16s - loss: 2.9246 - val_loss: 3.1803\n",
      "Epoch 34/100\n",
      " - 12s - loss: 2.9172 - val_loss: 3.1681\n",
      "Epoch 35/100\n",
      " - 15s - loss: 2.9046 - val_loss: 3.1549\n",
      "Epoch 36/100\n",
      " - 10s - loss: 2.8947 - val_loss: 3.1394\n",
      "Epoch 37/100\n",
      " - 9s - loss: 2.8865 - val_loss: 3.1268\n",
      "Epoch 38/100\n",
      " - 10s - loss: 2.8790 - val_loss: 3.1284\n",
      "Epoch 39/100\n",
      " - 10s - loss: 2.8595 - val_loss: 3.1153\n",
      "Epoch 40/100\n",
      " - 10s - loss: 2.8523 - val_loss: 3.1157\n",
      "Epoch 41/100\n",
      " - 9s - loss: 2.8409 - val_loss: 3.1211\n",
      "Epoch 42/100\n",
      " - 10s - loss: 2.8285 - val_loss: 3.1121\n",
      "Epoch 43/100\n",
      " - 10s - loss: 2.8158 - val_loss: 3.1115\n",
      "Epoch 44/100\n",
      " - 12s - loss: 2.8100 - val_loss: 3.1125\n",
      "Epoch 45/100\n",
      " - 10s - loss: 2.7985 - val_loss: 3.1089\n",
      "Epoch 46/100\n",
      " - 10s - loss: 2.7892 - val_loss: 3.0914\n",
      "Epoch 47/100\n",
      " - 13s - loss: 2.7844 - val_loss: 3.0940\n",
      "Epoch 48/100\n",
      " - 10s - loss: 2.7808 - val_loss: 3.0934\n",
      "Epoch 49/100\n",
      " - 12s - loss: 2.7730 - val_loss: 3.0860\n",
      "Epoch 50/100\n",
      " - 10s - loss: 2.7653 - val_loss: 3.0669\n",
      "Epoch 51/100\n",
      " - 10s - loss: 2.7584 - val_loss: 3.0752\n",
      "Epoch 52/100\n",
      " - 11s - loss: 2.7617 - val_loss: 3.0791\n",
      "Epoch 53/100\n",
      " - 10s - loss: 2.7474 - val_loss: 3.0769\n",
      "Epoch 54/100\n",
      " - 13s - loss: 2.7387 - val_loss: 3.0645\n",
      "Epoch 55/100\n",
      " - 10s - loss: 2.7293 - val_loss: 3.0650\n",
      "Epoch 56/100\n",
      " - 9s - loss: 2.7296 - val_loss: 3.0592\n",
      "Epoch 57/100\n",
      " - 10s - loss: 2.7229 - val_loss: 3.0563\n",
      "Epoch 58/100\n",
      " - 10s - loss: 2.7155 - val_loss: 3.0465\n",
      "Epoch 59/100\n",
      " - 10s - loss: 2.7135 - val_loss: 3.0410\n",
      "Epoch 60/100\n",
      " - 10s - loss: 2.7291 - val_loss: 3.0305\n",
      "Epoch 61/100\n",
      " - 10s - loss: 2.7247 - val_loss: 3.0437\n",
      "Epoch 62/100\n",
      " - 11s - loss: 2.7320 - val_loss: 3.0167\n",
      "Epoch 63/100\n",
      " - 12s - loss: 2.7226 - val_loss: 3.0003\n",
      "Epoch 64/100\n",
      " - 15s - loss: 2.7210 - val_loss: 3.0030\n",
      "Epoch 65/100\n",
      " - 20s - loss: 2.7244 - val_loss: 3.0053\n",
      "Epoch 66/100\n"
     ]
    }
   ],
   "source": [
    "history = model.fit_generator(train_gen.generator(),\n",
    "                              steps_per_epoch=steps_per_epoch,\n",
    "                              epochs=100,\n",
    "                              verbose=2,\n",
    "                              validation_data=valid_gen.generator(),\n",
    "                              validation_steps=validation_steps)\n"
   ]
  },
  {
   "cell_type": "code",
   "execution_count": null,
   "metadata": {},
   "outputs": [],
   "source": []
  },
  {
   "cell_type": "code",
   "execution_count": null,
   "metadata": {},
   "outputs": [],
   "source": [
    "\n",
    "# Plot training & validation loss values\n",
    "plt.plot(history.history['loss'])\n",
    "plt.plot(history.history['val_loss'])\n",
    "plt.title('Model loss')\n",
    "plt.ylabel('Loss')\n",
    "plt.xlabel('Epoch')\n",
    "plt.legend(['Train', 'Test'], loc='upper left')\n",
    "plt.show()"
   ]
  },
  {
   "cell_type": "code",
   "execution_count": null,
   "metadata": {},
   "outputs": [],
   "source": [
    "x = np.array([1,2,3,4,5,6])\n",
    "x[3:10]"
   ]
  }
 ],
 "metadata": {
  "kernelspec": {
   "display_name": "Python 3",
   "language": "python",
   "name": "python3"
  },
  "language_info": {
   "codemirror_mode": {
    "name": "ipython",
    "version": 3
   },
   "file_extension": ".py",
   "mimetype": "text/x-python",
   "name": "python",
   "nbconvert_exporter": "python",
   "pygments_lexer": "ipython3",
   "version": "3.7.3"
  }
 },
 "nbformat": 4,
 "nbformat_minor": 2
}
