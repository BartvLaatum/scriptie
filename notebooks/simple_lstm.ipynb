{
 "cells": [
  {
   "cell_type": "code",
   "execution_count": 82,
   "metadata": {},
   "outputs": [],
   "source": [
    "import pandas as pd\n",
    "import numpy as np\n",
    "import matplotlib.pyplot as plt\n",
    "import random\n",
    "\n",
    "# from scipy.fftpack import fft, ifft\n",
    "# from scipy import signal\n",
    "from sklearn import preprocessing\n",
    "from sklearn.model_selection import KFold\n",
    "# from sklearn.model_selection import train_test_split\n",
    "# from sklearn.model_selection import KFold\n",
    "\n",
    "# import features\n",
    "pd.set_option('precision', 30)\n",
    "np.set_printoptions(precision = 30)\n"
   ]
  },
  {
   "cell_type": "code",
   "execution_count": 7,
   "metadata": {},
   "outputs": [
    {
     "ename": "KeyboardInterrupt",
     "evalue": "",
     "output_type": "error",
     "traceback": [
      "\u001b[1;31m---------------------------------------------------------------------------\u001b[0m",
      "\u001b[1;31mKeyboardInterrupt\u001b[0m                         Traceback (most recent call last)",
      "\u001b[1;32m<ipython-input-7-7c01294502be>\u001b[0m in \u001b[0;36m<module>\u001b[1;34m\u001b[0m\n\u001b[1;32m----> 1\u001b[1;33m \u001b[0mtrain_df\u001b[0m \u001b[1;33m=\u001b[0m \u001b[0mpd\u001b[0m\u001b[1;33m.\u001b[0m\u001b[0mread_csv\u001b[0m\u001b[1;33m(\u001b[0m\u001b[1;34m'../../train/train.csv'\u001b[0m\u001b[1;33m,\u001b[0m \u001b[0mdtype\u001b[0m\u001b[1;33m=\u001b[0m\u001b[1;33m{\u001b[0m\u001b[1;34m'acoustic_data'\u001b[0m\u001b[1;33m:\u001b[0m \u001b[0mnp\u001b[0m\u001b[1;33m.\u001b[0m\u001b[0mint8\u001b[0m\u001b[1;33m,\u001b[0m \u001b[1;34m'time_to_failure'\u001b[0m\u001b[1;33m:\u001b[0m \u001b[0mnp\u001b[0m\u001b[1;33m.\u001b[0m\u001b[0mfloat64\u001b[0m\u001b[1;33m}\u001b[0m\u001b[1;33m)\u001b[0m\u001b[1;33m\u001b[0m\u001b[1;33m\u001b[0m\u001b[0m\n\u001b[0m",
      "\u001b[1;32m~\\Anaconda3\\envs\\PythonGPU\\lib\\site-packages\\pandas\\io\\parsers.py\u001b[0m in \u001b[0;36mparser_f\u001b[1;34m(filepath_or_buffer, sep, delimiter, header, names, index_col, usecols, squeeze, prefix, mangle_dupe_cols, dtype, engine, converters, true_values, false_values, skipinitialspace, skiprows, skipfooter, nrows, na_values, keep_default_na, na_filter, verbose, skip_blank_lines, parse_dates, infer_datetime_format, keep_date_col, date_parser, dayfirst, iterator, chunksize, compression, thousands, decimal, lineterminator, quotechar, quoting, doublequote, escapechar, comment, encoding, dialect, tupleize_cols, error_bad_lines, warn_bad_lines, delim_whitespace, low_memory, memory_map, float_precision)\u001b[0m\n\u001b[0;32m    700\u001b[0m                     skip_blank_lines=skip_blank_lines)\n\u001b[0;32m    701\u001b[0m \u001b[1;33m\u001b[0m\u001b[0m\n\u001b[1;32m--> 702\u001b[1;33m         \u001b[1;32mreturn\u001b[0m \u001b[0m_read\u001b[0m\u001b[1;33m(\u001b[0m\u001b[0mfilepath_or_buffer\u001b[0m\u001b[1;33m,\u001b[0m \u001b[0mkwds\u001b[0m\u001b[1;33m)\u001b[0m\u001b[1;33m\u001b[0m\u001b[1;33m\u001b[0m\u001b[0m\n\u001b[0m\u001b[0;32m    703\u001b[0m \u001b[1;33m\u001b[0m\u001b[0m\n\u001b[0;32m    704\u001b[0m     \u001b[0mparser_f\u001b[0m\u001b[1;33m.\u001b[0m\u001b[0m__name__\u001b[0m \u001b[1;33m=\u001b[0m \u001b[0mname\u001b[0m\u001b[1;33m\u001b[0m\u001b[1;33m\u001b[0m\u001b[0m\n",
      "\u001b[1;32m~\\Anaconda3\\envs\\PythonGPU\\lib\\site-packages\\pandas\\io\\parsers.py\u001b[0m in \u001b[0;36m_read\u001b[1;34m(filepath_or_buffer, kwds)\u001b[0m\n\u001b[0;32m    433\u001b[0m \u001b[1;33m\u001b[0m\u001b[0m\n\u001b[0;32m    434\u001b[0m     \u001b[1;32mtry\u001b[0m\u001b[1;33m:\u001b[0m\u001b[1;33m\u001b[0m\u001b[1;33m\u001b[0m\u001b[0m\n\u001b[1;32m--> 435\u001b[1;33m         \u001b[0mdata\u001b[0m \u001b[1;33m=\u001b[0m \u001b[0mparser\u001b[0m\u001b[1;33m.\u001b[0m\u001b[0mread\u001b[0m\u001b[1;33m(\u001b[0m\u001b[0mnrows\u001b[0m\u001b[1;33m)\u001b[0m\u001b[1;33m\u001b[0m\u001b[1;33m\u001b[0m\u001b[0m\n\u001b[0m\u001b[0;32m    436\u001b[0m     \u001b[1;32mfinally\u001b[0m\u001b[1;33m:\u001b[0m\u001b[1;33m\u001b[0m\u001b[1;33m\u001b[0m\u001b[0m\n\u001b[0;32m    437\u001b[0m         \u001b[0mparser\u001b[0m\u001b[1;33m.\u001b[0m\u001b[0mclose\u001b[0m\u001b[1;33m(\u001b[0m\u001b[1;33m)\u001b[0m\u001b[1;33m\u001b[0m\u001b[1;33m\u001b[0m\u001b[0m\n",
      "\u001b[1;32m~\\Anaconda3\\envs\\PythonGPU\\lib\\site-packages\\pandas\\io\\parsers.py\u001b[0m in \u001b[0;36mread\u001b[1;34m(self, nrows)\u001b[0m\n\u001b[0;32m   1137\u001b[0m     \u001b[1;32mdef\u001b[0m \u001b[0mread\u001b[0m\u001b[1;33m(\u001b[0m\u001b[0mself\u001b[0m\u001b[1;33m,\u001b[0m \u001b[0mnrows\u001b[0m\u001b[1;33m=\u001b[0m\u001b[1;32mNone\u001b[0m\u001b[1;33m)\u001b[0m\u001b[1;33m:\u001b[0m\u001b[1;33m\u001b[0m\u001b[1;33m\u001b[0m\u001b[0m\n\u001b[0;32m   1138\u001b[0m         \u001b[0mnrows\u001b[0m \u001b[1;33m=\u001b[0m \u001b[0m_validate_integer\u001b[0m\u001b[1;33m(\u001b[0m\u001b[1;34m'nrows'\u001b[0m\u001b[1;33m,\u001b[0m \u001b[0mnrows\u001b[0m\u001b[1;33m)\u001b[0m\u001b[1;33m\u001b[0m\u001b[1;33m\u001b[0m\u001b[0m\n\u001b[1;32m-> 1139\u001b[1;33m         \u001b[0mret\u001b[0m \u001b[1;33m=\u001b[0m \u001b[0mself\u001b[0m\u001b[1;33m.\u001b[0m\u001b[0m_engine\u001b[0m\u001b[1;33m.\u001b[0m\u001b[0mread\u001b[0m\u001b[1;33m(\u001b[0m\u001b[0mnrows\u001b[0m\u001b[1;33m)\u001b[0m\u001b[1;33m\u001b[0m\u001b[1;33m\u001b[0m\u001b[0m\n\u001b[0m\u001b[0;32m   1140\u001b[0m \u001b[1;33m\u001b[0m\u001b[0m\n\u001b[0;32m   1141\u001b[0m         \u001b[1;31m# May alter columns / col_dict\u001b[0m\u001b[1;33m\u001b[0m\u001b[1;33m\u001b[0m\u001b[1;33m\u001b[0m\u001b[0m\n",
      "\u001b[1;32m~\\Anaconda3\\envs\\PythonGPU\\lib\\site-packages\\pandas\\io\\parsers.py\u001b[0m in \u001b[0;36mread\u001b[1;34m(self, nrows)\u001b[0m\n\u001b[0;32m   1993\u001b[0m     \u001b[1;32mdef\u001b[0m \u001b[0mread\u001b[0m\u001b[1;33m(\u001b[0m\u001b[0mself\u001b[0m\u001b[1;33m,\u001b[0m \u001b[0mnrows\u001b[0m\u001b[1;33m=\u001b[0m\u001b[1;32mNone\u001b[0m\u001b[1;33m)\u001b[0m\u001b[1;33m:\u001b[0m\u001b[1;33m\u001b[0m\u001b[1;33m\u001b[0m\u001b[0m\n\u001b[0;32m   1994\u001b[0m         \u001b[1;32mtry\u001b[0m\u001b[1;33m:\u001b[0m\u001b[1;33m\u001b[0m\u001b[1;33m\u001b[0m\u001b[0m\n\u001b[1;32m-> 1995\u001b[1;33m             \u001b[0mdata\u001b[0m \u001b[1;33m=\u001b[0m \u001b[0mself\u001b[0m\u001b[1;33m.\u001b[0m\u001b[0m_reader\u001b[0m\u001b[1;33m.\u001b[0m\u001b[0mread\u001b[0m\u001b[1;33m(\u001b[0m\u001b[0mnrows\u001b[0m\u001b[1;33m)\u001b[0m\u001b[1;33m\u001b[0m\u001b[1;33m\u001b[0m\u001b[0m\n\u001b[0m\u001b[0;32m   1996\u001b[0m         \u001b[1;32mexcept\u001b[0m \u001b[0mStopIteration\u001b[0m\u001b[1;33m:\u001b[0m\u001b[1;33m\u001b[0m\u001b[1;33m\u001b[0m\u001b[0m\n\u001b[0;32m   1997\u001b[0m             \u001b[1;32mif\u001b[0m \u001b[0mself\u001b[0m\u001b[1;33m.\u001b[0m\u001b[0m_first_chunk\u001b[0m\u001b[1;33m:\u001b[0m\u001b[1;33m\u001b[0m\u001b[1;33m\u001b[0m\u001b[0m\n",
      "\u001b[1;32mpandas/_libs/parsers.pyx\u001b[0m in \u001b[0;36mpandas._libs.parsers.TextReader.read\u001b[1;34m()\u001b[0m\n",
      "\u001b[1;32mpandas/_libs/parsers.pyx\u001b[0m in \u001b[0;36mpandas._libs.parsers.TextReader._read_low_memory\u001b[1;34m()\u001b[0m\n",
      "\u001b[1;32mpandas/_libs/parsers.pyx\u001b[0m in \u001b[0;36mpandas._libs.parsers.TextReader._read_rows\u001b[1;34m()\u001b[0m\n",
      "\u001b[1;32mpandas/_libs/parsers.pyx\u001b[0m in \u001b[0;36mpandas._libs.parsers.TextReader._convert_column_data\u001b[1;34m()\u001b[0m\n",
      "\u001b[1;32mpandas/_libs/parsers.pyx\u001b[0m in \u001b[0;36mpandas._libs.parsers.TextReader._convert_tokens\u001b[1;34m()\u001b[0m\n",
      "\u001b[1;32mpandas/_libs/parsers.pyx\u001b[0m in \u001b[0;36mpandas._libs.parsers.TextReader._convert_with_dtype\u001b[1;34m()\u001b[0m\n",
      "\u001b[1;32m~\\Anaconda3\\envs\\PythonGPU\\lib\\site-packages\\pandas\\core\\dtypes\\common.py\u001b[0m in \u001b[0;36mis_categorical_dtype\u001b[1;34m(arr_or_dtype)\u001b[0m\n\u001b[0;32m    570\u001b[0m \u001b[1;33m\u001b[0m\u001b[0m\n\u001b[0;32m    571\u001b[0m \u001b[1;33m\u001b[0m\u001b[0m\n\u001b[1;32m--> 572\u001b[1;33m \u001b[1;32mdef\u001b[0m \u001b[0mis_categorical_dtype\u001b[0m\u001b[1;33m(\u001b[0m\u001b[0marr_or_dtype\u001b[0m\u001b[1;33m)\u001b[0m\u001b[1;33m:\u001b[0m\u001b[1;33m\u001b[0m\u001b[1;33m\u001b[0m\u001b[0m\n\u001b[0m\u001b[0;32m    573\u001b[0m     \"\"\"\n\u001b[0;32m    574\u001b[0m     \u001b[0mCheck\u001b[0m \u001b[0mwhether\u001b[0m \u001b[0man\u001b[0m \u001b[0marray\u001b[0m\u001b[1;33m-\u001b[0m\u001b[0mlike\u001b[0m \u001b[1;32mor\u001b[0m \u001b[0mdtype\u001b[0m \u001b[1;32mis\u001b[0m \u001b[0mof\u001b[0m \u001b[0mthe\u001b[0m \u001b[0mCategorical\u001b[0m \u001b[0mdtype\u001b[0m\u001b[1;33m.\u001b[0m\u001b[1;33m\u001b[0m\u001b[1;33m\u001b[0m\u001b[0m\n",
      "\u001b[1;31mKeyboardInterrupt\u001b[0m: "
     ]
    }
   ],
   "source": [
    "train_df = pd.read_csv('../../train/train.csv', dtype={'acoustic_data': np.int8, 'time_to_failure': np.float64})"
   ]
  },
  {
   "cell_type": "code",
   "execution_count": null,
   "metadata": {},
   "outputs": [],
   "source": [
    "float_data = train_df.values"
   ]
  },
  {
   "cell_type": "code",
   "execution_count": 83,
   "metadata": {},
   "outputs": [],
   "source": [
    "# del train_df\n",
    "train_df = pd.read_csv('diff_format.csv')\n"
   ]
  },
  {
   "cell_type": "code",
   "execution_count": 84,
   "metadata": {},
   "outputs": [],
   "source": [
    "# train_df.head()\n",
    "# del train_df"
   ]
  },
  {
   "cell_type": "code",
   "execution_count": 85,
   "metadata": {},
   "outputs": [],
   "source": [
    "float_data=train_df.values[:,:-1]\n",
    "y = train_df.values[:,-1]\n",
    "del train_df\n"
   ]
  },
  {
   "cell_type": "code",
   "execution_count": 86,
   "metadata": {},
   "outputs": [
    {
     "name": "stdout",
     "output_type": "stream",
     "text": [
      "(629145,)\n"
     ]
    },
    {
     "data": {
      "text/plain": [
       "(629145, 6)"
      ]
     },
     "execution_count": 86,
     "metadata": {},
     "output_type": "execute_result"
    }
   ],
   "source": [
    "# print(float_data[0])\n",
    "# print(y[0])\n",
    "print(y.shape)\n",
    "float_data.shape"
   ]
  },
  {
   "cell_type": "code",
   "execution_count": 87,
   "metadata": {},
   "outputs": [
    {
     "data": {
      "text/plain": [
       "StandardScaler(copy=True, with_mean=True, with_std=True)"
      ]
     },
     "execution_count": 87,
     "metadata": {},
     "output_type": "execute_result"
    }
   ],
   "source": [
    "scaler = preprocessing.StandardScaler()\n",
    "scaler.fit(float_data)"
   ]
  },
  {
   "cell_type": "code",
   "execution_count": 88,
   "metadata": {},
   "outputs": [],
   "source": [
    "# print(scaler.transform(float_data))"
   ]
  },
  {
   "cell_type": "code",
   "execution_count": 89,
   "metadata": {},
   "outputs": [],
   "source": [
    "scaled_X = scaler.transform(float_data)"
   ]
  },
  {
   "cell_type": "code",
   "execution_count": 90,
   "metadata": {},
   "outputs": [],
   "source": [
    "kf = KFold(n_splits=5)"
   ]
  },
  {
   "cell_type": "code",
   "execution_count": 91,
   "metadata": {},
   "outputs": [
    {
     "data": {
      "text/plain": [
       "KFold(n_splits=5, random_state=None, shuffle=False)"
      ]
     },
     "execution_count": 91,
     "metadata": {},
     "output_type": "execute_result"
    }
   ],
   "source": [
    "kf"
   ]
  },
  {
   "cell_type": "code",
   "execution_count": null,
   "metadata": {},
   "outputs": [],
   "source": []
  },
  {
   "cell_type": "code",
   "execution_count": 92,
   "metadata": {},
   "outputs": [],
   "source": [
    "def x_y_split(data):\n",
    "    x = data[:,0]\n",
    "    y = data[:,1]\n",
    "    return x, y\n",
    "\n",
    "def validation_split(data, ratio):\n",
    "    slice_index = int(len(data) * ratio)\n",
    "    train_data = data[:slice_index]\n",
    "    valid_set = data[slice_index:]\n",
    "    return train_data, valid_set\n",
    "\n",
    "def create_segments(data):\n",
    "    size = 150000\n",
    "    segment = []\n",
    "    for i in range(0, len(data), size):\n",
    "        segment.append(data[i:i+size])\n",
    "    return segment\n"
   ]
  },
  {
   "cell_type": "code",
   "execution_count": 93,
   "metadata": {},
   "outputs": [],
   "source": [
    "class KerasDataGenerator(object):\n",
    "\n",
    "    def __init__(self, X, y, n_steps=150, batch_size=16, n_features=None):\n",
    "        self.X = X\n",
    "        self.y = y\n",
    "        self.n_steps = n_steps\n",
    "#         self.step_size? = step_size\n",
    "        self.current_pos = 0\n",
    "        self.n_features = X.shape[1]\n",
    "        self.batch_size = batch_size\n",
    "        self.iter = 0\n",
    "    \n",
    "    def reset_index(self):\n",
    "        self.current_pos = 0\n",
    "\n",
    "    # generates batch of training data\n",
    "    def generator(self):\n",
    "        while True: \n",
    "            samples = np.zeros((self.batch_size, self.n_steps, self.n_features))\n",
    "            targets = np.zeros(self.batch_size,)\n",
    "            \n",
    "            indices = random.sample(range(150, self.X.shape[0]), self.batch_size)\n",
    "#             print(self.X.shape, self.y.shape)\n",
    "            for j, ind in enumerate(indices):\n",
    "                \n",
    "                samples[j] = self.X[ind - 150:ind]\n",
    "#                 try:\n",
    "                targets[j] = self.y[ind - 1]\n",
    "#                 except:\n",
    "#                     targets[j] = self.data[len(self.data) - 1, 1]\n",
    "#             samples = self.scale_batch(samples)\n",
    "            yield samples, targets\n",
    "\n",
    "\n",
    "    # returns standard features for segment\n",
    "    def extract_features(self, z):        \n",
    "        x = np.c_[z.mean(axis=1), \n",
    "                    z.min(axis=1),\n",
    "                    z.max(axis=1),\n",
    "                    z.std(axis=1)]\n",
    "        return x\n",
    "    \n",
    "    # normalizes batch of training features\n",
    "    def scale_batch(self, samples):\n",
    "        samples = samples.reshape(-1,self.n_features)\n",
    "        samples = preprocessing.scale(samples)\n",
    "        return samples.reshape(self.batch_size, self.n_steps, self.n_features)\n",
    "\n",
    "\n",
    "    # creates an X-training feature matrix on which prediction must be made\n",
    "    def create_X(self, ind=150):\n",
    "#         try:\n",
    "#             x = self.X[ind-(self.step_size*self.n_steps):ind:,0].reshape(self.n_steps,-1)\n",
    "        x = self.X[ind-150:ind]\n",
    "#         except:\n",
    "#             i = (self.data.shape[0]-self.current_pos) // self.n_steps * self.n_steps\n",
    "#             x = self.data[self.current_pos:self.current_pos+i:,0].reshape(self.n_steps,-1)\n",
    "        return x\n",
    "#         return np.c_[self.extract_features(x),\n",
    "#                      self.extract_features(x[:,-(self.step_size // 10):]),\n",
    "#                      self.extract_features(x[:,-(self.step_size // 100):])]\n",
    "\n",
    "    #   fourier transform does not perform well at the moment...\n",
    "    #                      np.apply_along_axis(features.create_FFT_feature, 1, x, 4000000)[:,0]]\n"
   ]
  },
  {
   "cell_type": "code",
   "execution_count": 15,
   "metadata": {},
   "outputs": [],
   "source": [
    "# split training data into training and validationset\n",
    "train_X, valid_X = validation_split(scaled_X, 0.8)\n",
    "train_y, valid_y = validation_split(y, 0.8)\n",
    "\n",
    "train_gen = KerasDataGenerator(train_X, train_y, n_steps=150 , batch_size=64)\n",
    "valid_gen = KerasDataGenerator(valid_X, valid_y, n_steps=150,  batch_size=64)\n",
    "# train_gen.next()"
   ]
  },
  {
   "cell_type": "code",
   "execution_count": 94,
   "metadata": {},
   "outputs": [],
   "source": [
    "from keras.models import Sequential\n",
    "from keras.layers import Dense, LSTM, Flatten, CuDNNGRU, GRU\n",
    "from keras.layers.normalization import BatchNormalization\n",
    "from keras.layers import Dropout\n",
    "from keras.optimizers import adam, RMSprop\n",
    "from keras.callbacks import ModelCheckpoint\n"
   ]
  },
  {
   "cell_type": "code",
   "execution_count": 95,
   "metadata": {},
   "outputs": [],
   "source": [
    "# steps_per_epoch = len(train_set)//(train_gen.batch_size* train_gen.step_size * train_gen.n_steps)\n",
    "# print(steps_per_epoch)\n",
    "# validation_steps = len(valid_set)//(valid_gen.batch_size * valid_gen.step_size * valid_gen.n_steps)\n",
    "# validation_steps\n"
   ]
  },
  {
   "cell_type": "code",
   "execution_count": 96,
   "metadata": {},
   "outputs": [],
   "source": [
    "def create_model(i):\n",
    "    modelname = \"model0\" + str(i) + \".hdf5\"\n",
    "    cb = [ModelCheckpoint(modelname, save_best_only=True, period=3)]\n",
    "\n",
    "    model = Sequential()\n",
    "    model.add(LSTM(48, input_shape=(None, 6)))\n",
    "    model.add(Dropout(0.2))\n",
    "    model.add(Dense(10, activation='relu'))\n",
    "    model.add(Dropout(0.2))\n",
    "    model.add(Dense(1))\n",
    "\n",
    "    model.summary()\n",
    "\n",
    "    # Compile and fit model\n",
    "    model.compile(optimizer=adam(lr=0.0005), loss=\"mae\")\n",
    "    return model, cb\n"
   ]
  },
  {
   "cell_type": "code",
   "execution_count": 97,
   "metadata": {
    "scrolled": false
   },
   "outputs": [],
   "source": [
    "fold_indices = {}\n",
    "i=0\n",
    "for train_index, test_index in kf.split(scaled_X):\n",
    "    i+=1\n",
    "    #     print(\"TRAIN:\", train_index, \"TEST:\", test_index)\n",
    "    train_X, valid_X = scaled_X[train_index], scaled_X[test_index]\n",
    "    train_y, valid_y = y[train_index], y[test_index]\n",
    "    \n",
    "    fold_indices[str(i)] = (train_index, test_index)\n",
    "    \n",
    "#     train_gen = KerasDataGenerator(train_X, train_y, n_steps=150 , batch_size=64)\n",
    "#     valid_gen = KerasDataGenerator(valid_X, valid_y, n_steps=150,  batch_size=64)\n",
    "    \n",
    "    \n",
    "#     model, cb = create_model(i)\n",
    "#     history = model.fit_generator(train_gen.generator(),\n",
    "#                               steps_per_epoch=1000,\n",
    "#                               epochs=30,\n",
    "#                               verbose=2,\n",
    "#                               callbacks=cb,\n",
    "#                               validation_data=valid_gen.generator(),\n",
    "#                               validation_steps=200)\n",
    "#     plt.plot(history.history['loss'])\n",
    "#     plt.plot(history.history['val_loss'])\n",
    "#     plt.title('Model loss')\n",
    "#     plt.ylabel('Loss')\n",
    "#     plt.xlabel('Epoch')\n",
    "#     plt.legend(['Train', 'Test'], loc='upper left')\n",
    "#     plt.show()"
   ]
  },
  {
   "cell_type": "code",
   "execution_count": 98,
   "metadata": {},
   "outputs": [],
   "source": [
    "# model.save('models/fourth_model.h5')\n",
    "# Plot training & validation loss values\n"
   ]
  },
  {
   "cell_type": "code",
   "execution_count": 99,
   "metadata": {},
   "outputs": [
    {
     "name": "stdout",
     "output_type": "stream",
     "text": [
      "{'1': (array([125829, 125830, 125831, ..., 629142, 629143, 629144]), array([     0,      1,      2, ..., 125826, 125827, 125828])), '2': (array([     0,      1,      2, ..., 629142, 629143, 629144]), array([125829, 125830, 125831, ..., 251655, 251656, 251657])), '3': (array([     0,      1,      2, ..., 629142, 629143, 629144]), array([251658, 251659, 251660, ..., 377484, 377485, 377486])), '4': (array([     0,      1,      2, ..., 629142, 629143, 629144]), array([377487, 377488, 377489, ..., 503313, 503314, 503315])), '5': (array([     0,      1,      2, ..., 503313, 503314, 503315]), array([503316, 503317, 503318, ..., 629142, 629143, 629144]))}\n"
     ]
    }
   ],
   "source": [
    "print(fold_indices)"
   ]
  },
  {
   "cell_type": "code",
   "execution_count": 100,
   "metadata": {},
   "outputs": [],
   "source": [
    "train_index, test_index = fold_indices['4']"
   ]
  },
  {
   "cell_type": "code",
   "execution_count": 101,
   "metadata": {},
   "outputs": [],
   "source": [
    "train_X, valid_X = scaled_X[train_index], scaled_X[test_index]\n",
    "train_y, valid_y = y[train_index], y[test_index]\n",
    "    "
   ]
  },
  {
   "cell_type": "code",
   "execution_count": 102,
   "metadata": {},
   "outputs": [],
   "source": [
    "train_gen = KerasDataGenerator(train_X, train_y, n_steps=150 , batch_size=64)\n",
    "valid_gen = KerasDataGenerator(valid_X, valid_y, n_steps=150,  batch_size=64)\n",
    "# plt.plot(train_y)"
   ]
  },
  {
   "cell_type": "code",
   "execution_count": null,
   "metadata": {},
   "outputs": [
    {
     "name": "stdout",
     "output_type": "stream",
     "text": [
      "_________________________________________________________________\n",
      "Layer (type)                 Output Shape              Param #   \n",
      "=================================================================\n",
      "lstm_3 (LSTM)                (None, 48)                10560     \n",
      "_________________________________________________________________\n",
      "dropout_17 (Dropout)         (None, 48)                0         \n",
      "_________________________________________________________________\n",
      "dense_13 (Dense)             (None, 10)                490       \n",
      "_________________________________________________________________\n",
      "dropout_18 (Dropout)         (None, 10)                0         \n",
      "_________________________________________________________________\n",
      "dense_14 (Dense)             (None, 1)                 11        \n",
      "=================================================================\n",
      "Total params: 11,061\n",
      "Trainable params: 11,061\n",
      "Non-trainable params: 0\n",
      "_________________________________________________________________\n",
      "Epoch 1/50\n",
      " - 341s - loss: 3.0270 - val_loss: 1.6199\n",
      "Epoch 2/50\n",
      " - 371s - loss: 2.5718 - val_loss: 1.3935\n",
      "Epoch 3/50\n",
      " - 424s - loss: 2.5287 - val_loss: 1.3918\n",
      "Epoch 4/50\n",
      " - 478s - loss: 2.4680 - val_loss: 1.4160\n",
      "Epoch 5/50\n",
      " - 528s - loss: 2.4477 - val_loss: 1.4093\n",
      "Epoch 6/50\n",
      " - 458s - loss: 2.4204 - val_loss: 1.3759\n",
      "Epoch 7/50\n",
      " - 385s - loss: 2.4009 - val_loss: 1.3623\n",
      "Epoch 8/50\n",
      " - 406s - loss: 2.3705 - val_loss: 1.4074\n",
      "Epoch 9/50\n",
      " - 358s - loss: 2.3445 - val_loss: 1.4073\n",
      "Epoch 10/50\n",
      " - 367s - loss: 2.3529 - val_loss: 1.3907\n",
      "Epoch 11/50\n",
      " - 367s - loss: 2.3282 - val_loss: 1.4227\n",
      "Epoch 12/50\n",
      " - 373s - loss: 2.3212 - val_loss: 1.3608\n",
      "Epoch 13/50\n",
      " - 381s - loss: 2.3020 - val_loss: 1.4063\n",
      "Epoch 14/50\n",
      " - 354s - loss: 2.2935 - val_loss: 1.5552\n",
      "Epoch 15/50\n",
      " - 358s - loss: 2.2968 - val_loss: 1.3537\n",
      "Epoch 16/50\n",
      " - 362s - loss: 2.2624 - val_loss: 1.4177\n",
      "Epoch 17/50\n",
      " - 358s - loss: 2.2750 - val_loss: 1.4342\n",
      "Epoch 18/50\n",
      " - 360s - loss: 2.2553 - val_loss: 1.4412\n",
      "Epoch 19/50\n",
      " - 359s - loss: 2.2367 - val_loss: 1.4216\n",
      "Epoch 20/50\n",
      " - 366s - loss: 2.2379 - val_loss: 1.5031\n",
      "Epoch 21/50\n",
      " - 374s - loss: 2.2285 - val_loss: 1.4359\n",
      "Epoch 22/50\n",
      " - 369s - loss: 2.2145 - val_loss: 1.4331\n",
      "Epoch 23/50\n",
      " - 371s - loss: 2.2065 - val_loss: 1.4763\n",
      "Epoch 24/50\n",
      " - 375s - loss: 2.1950 - val_loss: 1.4529\n",
      "Epoch 25/50\n",
      " - 376s - loss: 2.2005 - val_loss: 1.4222\n",
      "Epoch 26/50\n",
      " - 367s - loss: 2.1861 - val_loss: 1.4533\n",
      "Epoch 27/50\n",
      " - 366s - loss: 2.1657 - val_loss: 1.4689\n",
      "Epoch 28/50\n",
      " - 357s - loss: 2.1579 - val_loss: 1.5560\n",
      "Epoch 29/50\n",
      " - 364s - loss: 2.1496 - val_loss: 1.4916\n",
      "Epoch 30/50\n",
      " - 378s - loss: 2.1503 - val_loss: 1.4232\n",
      "Epoch 31/50\n",
      " - 323s - loss: 2.1462 - val_loss: 1.5964\n",
      "Epoch 32/50\n",
      " - 248s - loss: 2.1200 - val_loss: 1.5389\n",
      "Epoch 33/50\n",
      " - 244s - loss: 2.1375 - val_loss: 1.5305\n",
      "Epoch 34/50\n",
      " - 246s - loss: 2.1420 - val_loss: 1.5188\n",
      "Epoch 35/50\n",
      " - 245s - loss: 2.1030 - val_loss: 1.4767\n",
      "Epoch 36/50\n",
      " - 244s - loss: 2.1060 - val_loss: 1.5205\n",
      "Epoch 37/50\n",
      " - 250s - loss: 2.0822 - val_loss: 1.5423\n",
      "Epoch 38/50\n",
      " - 270s - loss: 2.0963 - val_loss: 1.4902\n",
      "Epoch 39/50\n"
     ]
    }
   ],
   "source": [
    "model, cb = create_model(7)\n",
    "history = model.fit_generator(train_gen.generator(),\n",
    "                          steps_per_epoch=1000,\n",
    "                          epochs=50,\n",
    "                          verbose=2,\n",
    "                          callbacks=cb,\n",
    "                          validation_data=valid_gen.generator(),\n",
    "                          validation_steps=200)\n",
    "plt.plot(history.history['loss'])\n",
    "plt.plot(history.history['val_loss'])\n",
    "plt.title('Model loss')\n",
    "plt.ylabel('Loss')\n",
    "plt.xlabel('Epoch')\n",
    "plt.legend(['Train', 'Test'], loc='upper left')\n",
    "plt.show()"
   ]
  },
  {
   "cell_type": "code",
   "execution_count": null,
   "metadata": {},
   "outputs": [],
   "source": [
    "from os import listdir\n",
    "from os.path import isfile, join"
   ]
  },
  {
   "cell_type": "code",
   "execution_count": null,
   "metadata": {},
   "outputs": [],
   "source": [
    "def create_submission(model, test_path):\n",
    "    segments = [f for f in listdir(test_path) if isfile(join(test_path, f))]\n",
    "    predictions = pd.DataFrame(columns=['seg_id','time_to_failure'])\n",
    "    \n",
    "    X = []\n",
    "    for seg_id in segments[:10]:\n",
    "        file = 'test/' + seg_id\n",
    "        testdata = pd.read_csv(file).values\n",
    "        \n",
    "#         print(features.create_FFT_feauture(testdata[0])\n",
    "        testobj = KerasDataGenerator(testdata)\n",
    "        \n",
    "        test_X = testobj.create_X()\n",
    "        X.append(test_X)\n",
    "    return X\n",
    "\n",
    "\n",
    "\n",
    "\n",
    "#         print(X)\n",
    "        \n",
    "        \n",
    "#         df = pd.DataFrame([[seg_id[:-4], time]], columns=['seg_id','time_to_failure'])\n",
    "#         predictions = predictions.append(df, ignore_index=True)\n",
    "        \n",
    "#     time = model.predict(np.expand_dims(test_X,0))[0][0]\n",
    "\n",
    "#     predictions.to_csv(\"submissions/submission04.csv\", index=False)"
   ]
  },
  {
   "cell_type": "code",
   "execution_count": null,
   "metadata": {},
   "outputs": [],
   "source": [
    "# model = load_model('models/third_model.h5')"
   ]
  },
  {
   "cell_type": "code",
   "execution_count": null,
   "metadata": {},
   "outputs": [],
   "source": [
    "# model.predict\n",
    "X = create_submission(model, 'test')"
   ]
  },
  {
   "cell_type": "code",
   "execution_count": null,
   "metadata": {},
   "outputs": [],
   "source": [
    "test_segs = np.c_[X]\n",
    "test_segs[0]"
   ]
  },
  {
   "cell_type": "code",
   "execution_count": null,
   "metadata": {},
   "outputs": [],
   "source": []
  }
 ],
 "metadata": {
  "kernelspec": {
   "display_name": "Python 3",
   "language": "python",
   "name": "python3"
  },
  "language_info": {
   "codemirror_mode": {
    "name": "ipython",
    "version": 3
   },
   "file_extension": ".py",
   "mimetype": "text/x-python",
   "name": "python",
   "nbconvert_exporter": "python",
   "pygments_lexer": "ipython3",
   "version": "3.7.3"
  }
 },
 "nbformat": 4,
 "nbformat_minor": 2
}
