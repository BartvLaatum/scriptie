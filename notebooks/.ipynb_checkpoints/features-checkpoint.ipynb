{
 "cells": [
  {
   "cell_type": "code",
   "execution_count": 61,
   "metadata": {},
   "outputs": [],
   "source": [
    "import pandas as pd\n",
    "import numpy as np\n",
    "import glob\n",
    "import matplotlib.pyplot as plt\n",
    "\n",
    "from scipy.fftpack import fft, ifft\n",
    "from scipy import signal\n",
    "from sklearn import preprocessing\n",
    "from sklearn.model_selection import train_test_split, KFold\n",
    "from sklearn.cluster import KMeans"
   ]
  },
  {
   "cell_type": "code",
   "execution_count": 3,
   "metadata": {},
   "outputs": [],
   "source": [
    "train_df = pd.read_csv('../../train/train.csv', dtype={'acoustic_data': np.int8, 'time_to_failure': np.float64})"
   ]
  },
  {
   "cell_type": "code",
   "execution_count": 5,
   "metadata": {},
   "outputs": [],
   "source": [
    "quakeind1 = 5656574\n",
    "quakeind3 = 104677355\n",
    "# train = float_data[quakeind1:quakeind2]"
   ]
  },
  {
   "cell_type": "code",
   "execution_count": 6,
   "metadata": {},
   "outputs": [],
   "source": [
    "float_data=train_df[quakeind1:quakeind3].values"
   ]
  },
  {
   "cell_type": "code",
   "execution_count": 7,
   "metadata": {},
   "outputs": [
    {
     "data": {
      "text/plain": [
       "(99020781, 2)"
      ]
     },
     "execution_count": 7,
     "metadata": {},
     "output_type": "execute_result"
    }
   ],
   "source": [
    "float_data.shape"
   ]
  },
  {
   "cell_type": "code",
   "execution_count": 9,
   "metadata": {},
   "outputs": [],
   "source": [
    "X_matrix, y = convertdata(float_data, 1000)\n"
   ]
  },
  {
   "cell_type": "code",
   "execution_count": 10,
   "metadata": {},
   "outputs": [],
   "source": [
    "del float_data"
   ]
  },
  {
   "cell_type": "code",
   "execution_count": 11,
   "metadata": {},
   "outputs": [
    {
     "data": {
      "text/plain": [
       "(99020, 1000)"
      ]
     },
     "execution_count": 11,
     "metadata": {},
     "output_type": "execute_result"
    }
   ],
   "source": [
    "X_matrix.shape"
   ]
  },
  {
   "cell_type": "code",
   "execution_count": 58,
   "metadata": {},
   "outputs": [],
   "source": [
    "def create_FFT_feature(x, fs=4000000):\n",
    "    fft = abs(np.fft.fft(x))\n",
    "    timestep = len(x)/fs\n",
    "    freq = np.fft.fftfreq(len(x), d=timestep)\n",
    "    i = int(len(x)/2)\n",
    "    freq = freq[1:i]\n",
    "    fft = fft[1:i]    \n",
    "    ind = fft.argmax()\n",
    "    frequency = freq[ind]\n",
    "    return frequency, freq, fft\n",
    "\n",
    "def convertdata(float_data, step_size):\n",
    "    X = float_data[:,0]\n",
    "    y = float_data[:,1]\n",
    "    rows = X.shape[0]//step_size\n",
    "    X = X[:rows*1000]\n",
    "    X = X.reshape(rows,1000)\n",
    "    y = [y[t] for t in range(999,len(y),1000)]\n",
    "    return X, np.array(y)\n",
    "\n",
    "def create_FFT_feature(x, fs=4000000):\n",
    "    fft = abs(np.fft.fft(x))\n",
    "    timestep = len(x)/fs\n",
    "    freq = np.fft.fftfreq(len(x), d=timestep)\n",
    "    i = int(len(x)/2)\n",
    "    freq = freq[1:i]\n",
    "    fft = fft[1:i]    \n",
    "    ind = fft.argmax()\n",
    "    frequency = freq[ind]\n",
    "    return frequency, freq, fft\n",
    "\n",
    "def classic_sta_lta(x, length_sta, length_lta):\n",
    "    \n",
    "    sta = np.cumsum(x ** 2)\n",
    "\n",
    "    # Convert to float\n",
    "    sta = np.require(sta, dtype=np.float)\n",
    "\n",
    "    # Copy for LTA\n",
    "    lta = sta.copy()\n",
    "\n",
    "    # Compute the STA and the LTA\n",
    "    sta[length_sta:] = sta[length_sta:] - sta[:-length_sta]\n",
    "    sta /= length_sta\n",
    "    lta[length_lta:] = lta[length_lta:] - lta[:-length_lta]\n",
    "    lta /= length_lta\n",
    "\n",
    "    # Pad zeros\n",
    "    sta[:length_lta - 1] = 0\n",
    "\n",
    "    # Avoid division by zero by setting zero values to tiny float\n",
    "    dtiny = np.finfo(0.0).tiny\n",
    "    idx = lta < dtiny\n",
    "    lta[idx] = dtiny\n",
    "\n",
    "    return (sta / lta)\n",
    "\n",
    "def m_pow_sta_vec(x, w_size, sta_len, lta_len):\n",
    "    v = []\n",
    "    v.append(classic_sta_lta(x, 10, 100))\n",
    "    mv = np.array([0]*50 + [x[i-w_size:i+w_size].mean() for i in range(w_size,len(x))])\n",
    "    v.append(mv)\n",
    "    pv = np.array([0]*50 + [np.sum(x[i-w_size:i+w_size]**2) for i in range(w_size,len(x))])**(.5)\n",
    "    v.append(pv)\n",
    "    return v\n",
    "\n",
    "# plt.plot(classic_sta_lta(X_matrix[0], 10, 100))\n",
    "# print(float_data.shape)\n",
    "# for vector in m_pow_sta_vec(X_matrix[:],50,10,100)[:-1]:\n",
    "#     plt.plot(vector)\n",
    "# plt.show()\n",
    "\n",
    "X_features = np.apply_along_axis(m_pow_sta_vec, 1, X_matrix, 50, 10, 100)\n",
    "\n"
   ]
  },
  {
   "cell_type": "code",
   "execution_count": 71,
   "metadata": {},
   "outputs": [
    {
     "data": {
      "text/plain": [
       "array([[ 0.90643927,  4.45823094, 50.36238925],\n",
       "       [ 0.90208745,  4.09655613, 48.9230847 ],\n",
       "       [ 0.89320663,  4.08469745, 47.1591271 ],\n",
       "       ...,\n",
       "       [ 0.91004659,  4.24011662, 49.06488585],\n",
       "       [ 0.91347369,  4.15627705, 48.36093674],\n",
       "       [ 0.9008909 ,  4.02473441, 47.7327512 ]])"
      ]
     },
     "execution_count": 71,
     "metadata": {},
     "output_type": "execute_result"
    }
   ],
   "source": [
    "new_X_features = X_features[:1000].mean(axis=2)\n",
    "new_X_features.shape\n",
    "new_X_features\n",
    "# kmeans = KMeans(n_clusters=2, random_state=0).fit(X_features)"
   ]
  },
  {
   "cell_type": "code",
   "execution_count": 14,
   "metadata": {},
   "outputs": [],
   "source": [
    "\n",
    "# X_feature = np.c_[X_matrix.std(axis=1),\n",
    "#                 X_matrix.max(axis=1),\n",
    "#                 X_matrix.min(axis=1),\n",
    "#                 X_matrix.mean(axis=1),\n",
    "#                 np.apply_along_axis(create_FFT_feature, 1, X_matrix, 4000000)[:,0],\n",
    "#                 np.apply_along_axis(classic_sta_lta, 1, X_matrix, 10, 200)]\n",
    "                  \n"
   ]
  },
  {
   "cell_type": "code",
   "execution_count": null,
   "metadata": {
    "scrolled": false
   },
   "outputs": [],
   "source": [
    "# fig, ax1 = plt.subplots()\n",
    "\n",
    "# time_to_failure = float_data[:,1]\n",
    "# acoustic = float_data[:,0]\n",
    "\n",
    "# color = 'tab:red'\n",
    "# ax1.set_xlabel('index')\n",
    "# ax1.set_ylabel('time [s]', color=color)\n",
    "# ax1.plot(time_to_failure, color=color)\n",
    "# ax1.tick_params(axis='y', labelcolor=color)\n",
    "\n",
    "# ax2 = ax1.twinx()  # instantiate a second axes that shares the same x-axis\n",
    "\n",
    "# color = 'tab:blue'\n",
    "# ax2.set_ylabel('sin', color=color)  # we already handled the x-label with ax1\n",
    "# ax2.plot(acoustic, color=color)\n",
    "# ax2.tick_params(axis='y', labelcolor=color)\n",
    "\n",
    "# fig.tight_layout()  # otherwise the right y-label is slightly clipped\n",
    "# plt.show()\n",
    "# plt.plot(float_data[40000000:45000000:,1])\n",
    "# print(len(float_data))\n",
    "\n",
    "\n",
    "# print(len(float_data))\n",
    "# print(y.shape)\n",
    "# 44000000:44500000\n",
    "\n",
    "# l = []\n",
    "# for i in range(100):\n",
    "# # plt.plot(X_matrix[i])\n",
    "#     l.append(classic_sta_lta(X_matrix[i], 20, 100).mean())\n",
    "    \n",
    "# k = []\n",
    "# for j in range(100,200):\n",
    "#     k.append(classic_sta_lta(X_matrix[j], 20, 500).mean())\n",
    "# # z = [item for sublist in l for item in sublist]\n",
    "# plt.plot(l)\n",
    "# plt.plot(k)\n",
    "# # plt.legend(['1k','2k','3k','4k','5k'])\n",
    "# plt.show()\n",
    "# plt.plot(float_data[:200000:,1])\n",
    "\n",
    "# create_FFT_feature(z)"
   ]
  },
  {
   "cell_type": "code",
   "execution_count": 15,
   "metadata": {},
   "outputs": [],
   "source": [
    "df = pd.DataFrame({'std':X_feature[:,0],'max':X_feature[:,1],'min':X_feature[:,2],'mean':X_feature[:,3],'freq':X_feature[:,4],'sta/lta':X_feature[:,5],'y':y})"
   ]
  },
  {
   "cell_type": "code",
   "execution_count": 16,
   "metadata": {},
   "outputs": [],
   "source": [
    "# create_FFT_feature(X_matrix[0])[0]\n",
    "# X_matrix[1000]\n",
    "df.to_csv('diff_format.csv', index=False)"
   ]
  },
  {
   "cell_type": "code",
   "execution_count": 17,
   "metadata": {},
   "outputs": [
    {
     "data": {
      "text/plain": [
       "(629145, 6)"
      ]
     },
     "execution_count": 17,
     "metadata": {},
     "output_type": "execute_result"
    }
   ],
   "source": [
    "X_feature.shape"
   ]
  },
  {
   "cell_type": "code",
   "execution_count": 66,
   "metadata": {},
   "outputs": [
    {
     "ename": "NameError",
     "evalue": "name 'x_test_part' is not defined",
     "output_type": "error",
     "traceback": [
      "\u001b[1;31m---------------------------------------------------------------------------\u001b[0m",
      "\u001b[1;31mNameError\u001b[0m                                 Traceback (most recent call last)",
      "\u001b[1;32m<ipython-input-66-5d348dc5922f>\u001b[0m in \u001b[0;36m<module>\u001b[1;34m\u001b[0m\n\u001b[1;32m----> 1\u001b[1;33m \u001b[0mf\u001b[0m\u001b[1;33m,\u001b[0m \u001b[0mfreqarray\u001b[0m\u001b[1;33m,\u001b[0m \u001b[0mfft\u001b[0m \u001b[1;33m=\u001b[0m \u001b[0mcreate_FFT_feature\u001b[0m\u001b[1;33m(\u001b[0m\u001b[0mx_test_part\u001b[0m\u001b[1;33m[\u001b[0m\u001b[1;33m:\u001b[0m\u001b[1;36m1000\u001b[0m\u001b[1;33m]\u001b[0m\u001b[1;33m,\u001b[0m \u001b[0mfs\u001b[0m\u001b[1;33m)\u001b[0m\u001b[1;33m\u001b[0m\u001b[1;33m\u001b[0m\u001b[0m\n\u001b[0m\u001b[0;32m      2\u001b[0m \u001b[0mprint\u001b[0m\u001b[1;33m(\u001b[0m\u001b[0mf\u001b[0m\u001b[1;33m)\u001b[0m\u001b[1;33m\u001b[0m\u001b[1;33m\u001b[0m\u001b[0m\n\u001b[0;32m      3\u001b[0m \u001b[0mplt\u001b[0m\u001b[1;33m.\u001b[0m\u001b[0mxlabel\u001b[0m\u001b[1;33m(\u001b[0m\u001b[1;34m'Frequency [Hz]'\u001b[0m\u001b[1;33m)\u001b[0m\u001b[1;33m\u001b[0m\u001b[1;33m\u001b[0m\u001b[0m\n\u001b[0;32m      4\u001b[0m \u001b[0mplt\u001b[0m\u001b[1;33m.\u001b[0m\u001b[0mylabel\u001b[0m\u001b[1;33m(\u001b[0m\u001b[1;34m'Amplitude'\u001b[0m\u001b[1;33m)\u001b[0m\u001b[1;33m\u001b[0m\u001b[1;33m\u001b[0m\u001b[0m\n\u001b[0;32m      5\u001b[0m \u001b[0mplt\u001b[0m\u001b[1;33m.\u001b[0m\u001b[0mplot\u001b[0m\u001b[1;33m(\u001b[0m\u001b[0mfreq\u001b[0m\u001b[1;33m,\u001b[0m\u001b[0mfft\u001b[0m\u001b[1;33m)\u001b[0m\u001b[1;33m\u001b[0m\u001b[1;33m\u001b[0m\u001b[0m\n",
      "\u001b[1;31mNameError\u001b[0m: name 'x_test_part' is not defined"
     ]
    }
   ],
   "source": [
    "f, freqarray, fft = create_FFT_feature(x_test_part[:1000], fs)\n",
    "print(f)\n",
    "plt.xlabel('Frequency [Hz]')\n",
    "plt.ylabel('Amplitude')\n",
    "plt.plot(freq,fft)"
   ]
  },
  {
   "cell_type": "code",
   "execution_count": null,
   "metadata": {},
   "outputs": [],
   "source": [
    "from __future__ import division"
   ]
  },
  {
   "cell_type": "code",
   "execution_count": null,
   "metadata": {},
   "outputs": [],
   "source": [
    "# https://www.kaggle.com/c/LANL-Earthquake-Prediction/discussion/77526#latest-524621\n",
    "seg_t = 0.0375\n",
    "N = 150000\n",
    "fs = N*(1/seg_t)# 4MHz\n",
    "bin_chunk = 1000\n",
    "\n",
    "f, t, Zxx = create_stft_feature(x_test_part[:1024], fs)\n",
    "plt.plot(x_test_part[:1000])"
   ]
  },
  {
   "cell_type": "code",
   "execution_count": null,
   "metadata": {},
   "outputs": [],
   "source": [
    "c = plt.pcolormesh(t, f, np.abs(Zxx))\n",
    "plt.show(c)"
   ]
  },
  {
   "cell_type": "code",
   "execution_count": null,
   "metadata": {
    "scrolled": true
   },
   "outputs": [],
   "source": []
  },
  {
   "cell_type": "code",
   "execution_count": null,
   "metadata": {},
   "outputs": [],
   "source": []
  },
  {
   "cell_type": "code",
   "execution_count": null,
   "metadata": {},
   "outputs": [],
   "source": [
    "\n"
   ]
  },
  {
   "cell_type": "code",
   "execution_count": null,
   "metadata": {},
   "outputs": [],
   "source": []
  }
 ],
 "metadata": {
  "kernelspec": {
   "display_name": "Python 3",
   "language": "python",
   "name": "python3"
  },
  "language_info": {
   "codemirror_mode": {
    "name": "ipython",
    "version": 3
   },
   "file_extension": ".py",
   "mimetype": "text/x-python",
   "name": "python",
   "nbconvert_exporter": "python",
   "pygments_lexer": "ipython3",
   "version": "3.7.3"
  }
 },
 "nbformat": 4,
 "nbformat_minor": 2
}
